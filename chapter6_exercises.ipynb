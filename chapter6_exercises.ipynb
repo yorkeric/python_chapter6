{
 "cells": [
  {
   "attachments": {},
   "cell_type": "markdown",
   "metadata": {},
   "source": [
    "## Chapter 6 Exercises\n",
    "### Algorithm Workbench\n",
    "#### Question 1"
   ]
  },
  {
   "cell_type": "code",
   "execution_count": 10,
   "metadata": {},
   "outputs": [],
   "source": [
    "# Open a file named my_name.txt for writing\n",
    "my_name_file = open('my_name.txt', 'w')\n",
    "# Writes the name (with the standard new line)\n",
    "my_name_file.write('Eric York\\n')\n",
    "# Call close method to close the file\n",
    "my_name_file.close()\n",
    "\n",
    "# Open the same file for appending using the with statement (try it out)\n",
    "# Open a file named my_name.txt for appending\n",
    "with open('my_name.txt', 'a') as my_name_file:\n",
    "    # Writes the name (with the standard new line)\n",
    "    my_name_file.write('Eric York (using with statement)\\n')"
   ]
  },
  {
   "attachments": {},
   "cell_type": "markdown",
   "metadata": {},
   "source": [
    "#### Question 3"
   ]
  },
  {
   "cell_type": "code",
   "execution_count": 12,
   "metadata": {},
   "outputs": [],
   "source": [
    "# Open a file named number_list.txt for write\n",
    "with open('number_list.txt', 'w') as number_list_file:\n",
    "    # Loop 100 iterations\n",
    "    for i in range(100):\n",
    "        # Write numbers 1 through 100. Add new line after each number\n",
    "        # Close file is andled by the with statment\n",
    "        number_list_file.write(str(i + 1) + '\\n')"
   ]
  },
  {
   "attachments": {},
   "cell_type": "markdown",
   "metadata": {},
   "source": [
    "### Program Exercises\n",
    "#### Question 1 - File Display"
   ]
  },
  {
   "cell_type": "code",
   "execution_count": 6,
   "metadata": {},
   "outputs": [
    {
     "name": "stdout",
     "output_type": "stream",
     "text": [
      "['1', '2', '3', '4', '5', '6', '7', '8', '9', '10', '11', '12', '13', '14', '15', '16', '17', '18', '19', '20', '21', '22', '23', '24', '25', '26', '27', '28', '29', '30', '31', '32', '33', '34', '35', '36', '37', '38', '39', '40', '41', '42', '43', '44', '45', '46', '47', '48', '49', '50', '51', '52', '53', '54', '55', '56', '57', '58', '59', '60', '61', '62', '63', '64', '65', '66', '67', '68', '69', '70', '71', '72', '73', '74', '75', '76', '77', '78', '79', '80', '81', '82', '83', '84', '85', '86', '87', '88', '89', '90', '91', '92', '93', '94', '95', '96', '97', '98', '99', '100']\n"
     ]
    }
   ],
   "source": [
    "# Open a file named numbers.txt that contains numbers 1 through 100 for read\n",
    "with open('numbers.txt', 'r') as numbers_file:\n",
    "    # Create list named numbers to store the numbers\n",
    "    numbers = []\n",
    "    # Loop over the file\n",
    "    for line in numbers_file:\n",
    "        # Store the numbers and remove the new line; loop prints a new line each time\n",
    "        numbers.append(line.strip())\n",
    "    # Print all the numbers in the list comma separated without the brackets\n",
    "    print(*numbers, sep=\", \")"
   ]
  },
  {
   "attachments": {},
   "cell_type": "markdown",
   "metadata": {},
   "source": [
    "#### Question 6 - Average of Numbers"
   ]
  },
  {
   "cell_type": "code",
   "execution_count": 1,
   "metadata": {},
   "outputs": [
    {
     "name": "stdout",
     "output_type": "stream",
     "text": [
      "Total count: 100\n",
      "Total sum: 5050\n",
      "Average: 50\n"
     ]
    }
   ],
   "source": [
    "# Set initial values\n",
    "total_count = 0\n",
    "total_sum = 0\n",
    "# Open a file named numbers.txt that contains numbers 1 through 100 for read\n",
    "with open('numbers.txt', 'r') as numbers_file:\n",
    "    # Loop over the file\n",
    "    for line in numbers_file:\n",
    "        # Increase the total count and add to the total sum for each line in the file\n",
    "        total_count += 1\n",
    "        total_sum += int(line.strip())\n",
    "# Print the total count and total sum        \n",
    "print('Total count:', total_count)\n",
    "print('Total sum:', total_sum)\n",
    "# Calculate the average of all numbers stored in the file\n",
    "# The average is the total count of all numbers divided by the total sum of all numbers. Keep track of both in the loop\n",
    "# Print the average\n",
    "print('Average:', int(total_sum/total_count))"
   ]
  },
  {
   "attachments": {},
   "cell_type": "markdown",
   "metadata": {},
   "source": [
    "#### Question 9 - Exception Handling"
   ]
  },
  {
   "cell_type": "code",
   "execution_count": 16,
   "metadata": {},
   "outputs": [
    {
     "name": "stdout",
     "output_type": "stream",
     "text": [
      "ERROR: Value for line number 4 must be integer but was b\n",
      "EXCEPTION: invalid literal for int() with base 10: 'b'\n"
     ]
    }
   ],
   "source": [
    "# Set initial values\n",
    "total_count = 0\n",
    "total_sum = 0\n",
    "# Wrap with a try/except to handle value errors or errors reading the file\n",
    "try:\n",
    "    # Open a file named numbers.txt that contains numbers 1 through 100 for read\n",
    "    with open('numbers.txt', 'r') as numbers_file:\n",
    "        # Loop over the file\n",
    "        for line in numbers_file:\n",
    "            # Increase the total count and add to the total sum for each line in the file            \n",
    "            total_count += 1\n",
    "            total_sum += int(line.strip())\n",
    "        # Print the total count and total sum        \n",
    "        print('Total count:', total_count)\n",
    "        print('Total sum:', total_sum)\n",
    "        # Calculate the average of all numbers stored in the file\n",
    "        # The average is the total count of all numbers divided by the total sum of all numbers. Keep track of both in the loop\n",
    "        # Print the average\n",
    "        print('Average:', int(total_sum/total_count))\n",
    "# Exception handling for value errors encountered while processing        \n",
    "except ValueError as e:\n",
    "    # Print the error message with the line number and value that caused the error\n",
    "    print('ERROR: Value for line number', total_count, 'must be integer but was', line.strip())   \n",
    "    # Print exception message\n",
    "    print('EXCEPTION: ' + str(e))\n",
    "except IOError as e:\n",
    "    # Print the error message when error reading the file\n",
    "    print('An error occured reading the file numbers.txt')\n",
    "    # Print exception message    \n",
    "    print('EXCEPTION: ' + str(e))"
   ]
  },
  {
   "attachments": {},
   "cell_type": "markdown",
   "metadata": {},
   "source": [
    "#### Question 10 - Golf Scores"
   ]
  },
  {
   "cell_type": "code",
   "execution_count": 7,
   "metadata": {},
   "outputs": [
    {
     "name": "stdout",
     "output_type": "stream",
     "text": [
      "Eric York scored a 33\n",
      "Tiger Woods scored a 1111\n",
      "Derp scored a 111111\n"
     ]
    }
   ],
   "source": [
    "# Write a program that reads each players name and golf score. \n",
    "# Open a file named golf.txt for writing\n",
    "with open('golf.txt', 'w') as golf_file:\n",
    "    # Set initial value \n",
    "    # Continue processing until there is a break due to\n",
    "    while True:\n",
    "        # Prompts to enter the play name\n",
    "        player_name = input('Enter the player name: ')\n",
    "        # Prompts to enter the golf score        \n",
    "        player_score = input('Enter the player score: ')\n",
    "        # Writes the players name and golf score to a file named golf.txt\n",
    "        golf_file.write(player_name + ',' + player_score + '\\n')\n",
    "        # Prompts to contine and validates the input\n",
    "        keep_going = input('Do you want to contine? [y/n]')      \n",
    "        while True:\n",
    "            # Verify input is either y or n\n",
    "            if keep_going == 'y' or keep_going == 'n':\n",
    "                # Exits the loop\n",
    "                break\n",
    "            else:\n",
    "                # Print the input is invalid\n",
    "                keep_going = input('Invalid input. Do you want to contine? [y/n]')\n",
    "        # Stop if the response is n. Otherwise, keep going\n",
    "        if keep_going == 'n':\n",
    "            break\n",
    "# Write a program that reads the golf.txt file \n",
    "# Open a file named golf.txt for read\n",
    "with open('golf.txt', 'r') as golf_file:\n",
    "    # Loop over the file\n",
    "    for line in golf_file:\n",
    "        # The player name and score are comma separated so split on the comma.\n",
    "        player_details = line.strip().split(\",\")\n",
    "        # Prints the player name (first value in the array) and score (second value in the array)\n",
    "        print(player_details[0] + ' scored a', player_details[1])"
   ]
  }
 ],
 "metadata": {
  "kernelspec": {
   "display_name": "Python 3",
   "language": "python",
   "name": "python3"
  },
  "language_info": {
   "codemirror_mode": {
    "name": "ipython",
    "version": 3
   },
   "file_extension": ".py",
   "mimetype": "text/x-python",
   "name": "python",
   "nbconvert_exporter": "python",
   "pygments_lexer": "ipython3",
   "version": "3.11.3"
  },
  "orig_nbformat": 4
 },
 "nbformat": 4,
 "nbformat_minor": 2
}
