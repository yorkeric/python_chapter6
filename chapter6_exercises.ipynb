{
 "cells": [
  {
   "attachments": {},
   "cell_type": "markdown",
   "metadata": {},
   "source": [
    "## Chapter 6 Exercises\n",
    "### Algorithm Workbench\n",
    "#### Question 1"
   ]
  },
  {
   "cell_type": "code",
   "execution_count": 11,
   "metadata": {},
   "outputs": [],
   "source": [
    "# Open a file named my_name.txt for writing\n",
    "my_name_file = open('my_name.txt', 'w')\n",
    "# Writes the name (with the standard new line)\n",
    "my_name_file.write('Eric York\\n')\n",
    "# Call close method to close the file\n",
    "my_name_file.close()\n",
    "\n",
    "# Open the same file for appending using the with statement (try it out)\n",
    "# Open a file named my_name.txt for appending\n",
    "with open('my_name.txt', 'a') as my_name_file:\n",
    "    # Writes the name (with the standard new line)\n",
    "    my_name_file.write('Eric York (using with statement)\\n')"
   ]
  },
  {
   "attachments": {},
   "cell_type": "markdown",
   "metadata": {},
   "source": [
    "#### Question 3"
   ]
  },
  {
   "cell_type": "code",
   "execution_count": null,
   "metadata": {},
   "outputs": [],
   "source": [
    "# Open a file named number_list.txt for write\n",
    "with open('number_list.txt', 'w') as number_list_file:\n",
    "    # Write numbers 1 through 100.  Add new line after each number\n",
    "    for i in range(1,101):\n",
    "        # Close file (handled by the with statment)\n",
    "        number_list_file.write(str(i) + '\\n')"
   ]
  },
  {
   "attachments": {},
   "cell_type": "markdown",
   "metadata": {},
   "source": [
    "### Program Exercises\n",
    "#### Question 1 - File Display"
   ]
  },
  {
   "cell_type": "code",
   "execution_count": null,
   "metadata": {},
   "outputs": [
    {
     "name": "stdout",
     "output_type": "stream",
     "text": [
      "1\n",
      "2\n",
      "3\n",
      "4\n",
      "5\n",
      "6\n",
      "7\n",
      "8\n",
      "9\n",
      "10\n",
      "11\n",
      "12\n",
      "13\n",
      "14\n",
      "15\n",
      "16\n",
      "17\n",
      "18\n",
      "19\n",
      "20\n",
      "21\n",
      "22\n",
      "23\n",
      "24\n",
      "25\n",
      "26\n",
      "27\n",
      "28\n",
      "29\n",
      "30\n",
      "31\n",
      "32\n",
      "33\n",
      "34\n",
      "35\n",
      "36\n",
      "37\n",
      "38\n",
      "39\n",
      "40\n",
      "41\n",
      "42\n",
      "43\n",
      "44\n",
      "45\n",
      "46\n",
      "47\n",
      "48\n",
      "49\n",
      "50\n",
      "51\n",
      "52\n",
      "53\n",
      "54\n",
      "55\n",
      "56\n",
      "57\n",
      "58\n",
      "59\n",
      "60\n",
      "61\n",
      "62\n",
      "63\n",
      "64\n",
      "65\n",
      "66\n",
      "67\n",
      "68\n",
      "69\n",
      "70\n",
      "71\n",
      "72\n",
      "73\n",
      "74\n",
      "75\n",
      "76\n",
      "77\n",
      "78\n",
      "79\n",
      "80\n",
      "81\n",
      "82\n",
      "83\n",
      "84\n",
      "85\n",
      "86\n",
      "87\n",
      "88\n",
      "89\n",
      "90\n",
      "91\n",
      "92\n",
      "93\n",
      "94\n",
      "95\n",
      "96\n",
      "97\n",
      "98\n",
      "99\n",
      "100\n"
     ]
    }
   ],
   "source": [
    "# Open a file named numbers.txt that contains numbers 1 through 100 for read\n",
    "with open('numbers.txt', 'r') as numbers_file:\n",
    "    # Loop over the file\n",
    "    for line in numbers_file:\n",
    "        # Print all the numbers in the file\n",
    "        # Remove the new line; loop prints a new line each time        \n",
    "        print(line.strip())"
   ]
  },
  {
   "attachments": {},
   "cell_type": "markdown",
   "metadata": {},
   "source": [
    "#### Question 6 - Average of Numbers"
   ]
  },
  {
   "cell_type": "code",
   "execution_count": null,
   "metadata": {},
   "outputs": [
    {
     "name": "stdout",
     "output_type": "stream",
     "text": [
      "Total count: 100\n",
      "Total sum: 5050\n",
      "Average: 50.5\n"
     ]
    }
   ],
   "source": [
    "# Set initial values\n",
    "total_count = 0\n",
    "total_sum = 0\n",
    "# Open a file named numbers.txt that contains numbers 1 through 100 for read\n",
    "with open('numbers.txt', 'r') as numbers_file:\n",
    "    # Loop over the file\n",
    "    for line in numbers_file:\n",
    "        # Increase the total count and add to the total sum for each line in the file\n",
    "        total_count += 1\n",
    "        total_sum += int(line.strip())\n",
    "# Print the total count and total sum        \n",
    "print('Total count:', total_count)\n",
    "print('Total sum:', total_sum)\n",
    "# Calculate the average of all numbers stored in the file\n",
    "# The average is the total count of all numbers divided by the total sum of all numbers. Keep track of both in the loop\n",
    "# Print the average\n",
    "print('Average:', total_sum/total_count)"
   ]
  },
  {
   "attachments": {},
   "cell_type": "markdown",
   "metadata": {},
   "source": [
    "#### Question 9 - Exception Handling"
   ]
  },
  {
   "cell_type": "code",
   "execution_count": null,
   "metadata": {},
   "outputs": [
    {
     "name": "stdout",
     "output_type": "stream",
     "text": [
      "ERROR: Value for line number 2 must be integer but was A\n"
     ]
    }
   ],
   "source": [
    "# Set initial values\n",
    "total_count = 0\n",
    "total_sum = 0\n",
    "# Wrap with a try/except to handle value errors or errors reading the file\n",
    "try:\n",
    "    # Open a file named numbers.txt that contains numbers 1 through 100 for read\n",
    "    with open('numbers.txt', 'r') as numbers_file:\n",
    "        # Loop over the file\n",
    "        for line in numbers_file:\n",
    "            # Increase the total count and add to the total sum for each line in the file            \n",
    "            total_count += 1\n",
    "            total_sum += int(line.strip())\n",
    "        # Print the total count and total sum        \n",
    "        print('Total count:', total_count)\n",
    "        print('Total sum:', total_sum)\n",
    "        # Calculate the average of all numbers stored in the file\n",
    "        # The average is the total count of all numbers divided by the total sum of all numbers. Keep track of both in the loop\n",
    "        # Print the average\n",
    "        print('Average:', total_sum/total_count)\n",
    "# Exception handling for value errors encountered while processing        \n",
    "except ValueError:\n",
    "    # Print the exception message with the line number and value that caused the error\n",
    "    print('ERROR: Value for line number', total_count, 'must be integer but was', line.strip())                        \n",
    "except IOError:\n",
    "    # Print the exception message when error reading the file\n",
    "    print('An error occured reading the file numbers.txt')"
   ]
  },
  {
   "attachments": {},
   "cell_type": "markdown",
   "metadata": {},
   "source": [
    "#### Question 10 - Golf Scores"
   ]
  },
  {
   "cell_type": "code",
   "execution_count": 6,
   "metadata": {},
   "outputs": [
    {
     "name": "stdout",
     "output_type": "stream",
     "text": [
      "Player name: Eric York\n",
      "Player score: 77\n",
      "\n",
      "Player name: Tiger Woods\n",
      "Player score: 44\n",
      "\n"
     ]
    }
   ],
   "source": [
    "# Write a program that reads each players name and golf score. \n",
    "# Open a file named golf.txt for writing\n",
    "with open('golf.txt', 'w') as golf_file:\n",
    "    # Continue processing until there is a break due to\n",
    "    while True:\n",
    "        # Prompts to enter the play name\n",
    "        player_name = input('Enter the player name: ')\n",
    "        # Prompts to enter the golf score        \n",
    "        player_score = input('Enter the player score: ')\n",
    "        # Writes the players name and golf score to a file named golf.txt\n",
    "        golf_file.write(player_name + ',' + player_score + '\\n')\n",
    "        # Prompts to contine and stops if 'n'        \n",
    "        contine = input('Do you want to contine? [y/n]')\n",
    "        if contine =='n':\n",
    "            # Exits the loop\n",
    "            break\n",
    "\n",
    "# Write a program that reads the golf.txt file \n",
    "# Open a file named golf.txt for read\n",
    "with open('golf.txt', 'r') as golf_file:\n",
    "    # Loop over the file\n",
    "    for line in golf_file:\n",
    "        # The player name and score are comma separated so split on the comma\n",
    "        player_details = line.split(\",\")\n",
    "        # Prints the player name (first value in the array)   \n",
    "        print('Player name:', player_details[0])\n",
    "        # Prints the player score (second value in the array)           \n",
    "        print('Player score:', player_details[1])"
   ]
  }
 ],
 "metadata": {
  "kernelspec": {
   "display_name": "Python 3",
   "language": "python",
   "name": "python3"
  },
  "language_info": {
   "codemirror_mode": {
    "name": "ipython",
    "version": 3
   },
   "file_extension": ".py",
   "mimetype": "text/x-python",
   "name": "python",
   "nbconvert_exporter": "python",
   "pygments_lexer": "ipython3",
   "version": "3.11.3"
  },
  "orig_nbformat": 4
 },
 "nbformat": 4,
 "nbformat_minor": 2
}
