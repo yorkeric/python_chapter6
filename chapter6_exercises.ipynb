{
 "cells": [
  {
   "attachments": {},
   "cell_type": "markdown",
   "metadata": {},
   "source": [
    "## Chapter 6 Exercises\n",
    "### Algorithm Workbench\n",
    "#### Question 1"
   ]
  },
  {
   "cell_type": "code",
   "execution_count": 23,
   "metadata": {},
   "outputs": [],
   "source": [
    "# Open a file named my_name.txt for writing\n",
    "# Writes the name (with the standard new line)\n",
    "# Call close method to close the file\n",
    "my_name_file = open('my_name.txt', 'w')\n",
    "my_name_file.write('Eric York\\n')\n",
    "my_name_file.close()\n",
    "\n",
    "# Open the same file for appending using the with statement (try it out)\n",
    "with open('my_name.txt', 'a') as my_name_file:\n",
    "    my_name_file.write('Eric York (using with statement)\\n')"
   ]
  },
  {
   "attachments": {},
   "cell_type": "markdown",
   "metadata": {},
   "source": [
    "#### Question 3"
   ]
  },
  {
   "cell_type": "code",
   "execution_count": 24,
   "metadata": {},
   "outputs": [],
   "source": [
    "# Open a file named number_list.txt \n",
    "# Write numbers 1 through 100\n",
    "# Close file (handled by the with statment)\n",
    "with open('number_list.txt', 'w') as my_number_list_file:\n",
    "    for i in range(1,101):\n",
    "        my_number_list_file.write(str(i) + '\\n')"
   ]
  }
 ],
 "metadata": {
  "kernelspec": {
   "display_name": "Python 3",
   "language": "python",
   "name": "python3"
  },
  "language_info": {
   "codemirror_mode": {
    "name": "ipython",
    "version": 3
   },
   "file_extension": ".py",
   "mimetype": "text/x-python",
   "name": "python",
   "nbconvert_exporter": "python",
   "pygments_lexer": "ipython3",
   "version": "3.11.3"
  },
  "orig_nbformat": 4
 },
 "nbformat": 4,
 "nbformat_minor": 2
}
