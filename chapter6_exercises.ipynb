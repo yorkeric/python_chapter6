{
 "cells": [
  {
   "attachments": {},
   "cell_type": "markdown",
   "metadata": {},
   "source": [
    "## Chapter 6 Exercises\n",
    "### Algorithm Workbench\n",
    "#### Question 1"
   ]
  },
  {
   "cell_type": "code",
   "execution_count": null,
   "metadata": {},
   "outputs": [
    {
     "ename": "",
     "evalue": "",
     "output_type": "error",
     "traceback": [
      "\u001b[1;31mCanceled future for execute_request message before replies were done"
     ]
    }
   ],
   "source": [
    "# Open a file named my_name.txt for writing\n",
    "# Writes the name (with the standard new line)\n",
    "# Call close method to close the file\n",
    "my_name_file = open('my_name.txt', 'w')\n",
    "my_name_file.write('Eric York\\n')\n",
    "my_name_file.close()\n",
    "\n",
    "# Open the same file for appending using the with statement (try it out)\n",
    "with open('my_name.txt', 'a') as my_name_file:\n",
    "    my_name_file.write('Eric York (using with statement)\\n')"
   ]
  },
  {
   "attachments": {},
   "cell_type": "markdown",
   "metadata": {},
   "source": [
    "#### Question 3"
   ]
  },
  {
   "cell_type": "code",
   "execution_count": null,
   "metadata": {},
   "outputs": [],
   "source": [
    "# Open a file named number_list.txt \n",
    "# Write numbers 1 through 100.  Add new line after each number\n",
    "# Close file (handled by the with statment)\n",
    "with open('number_list.txt', 'w') as number_list_file:\n",
    "    for i in range(1,101):\n",
    "        number_list_file.write(str(i) + '\\n')"
   ]
  },
  {
   "attachments": {},
   "cell_type": "markdown",
   "metadata": {},
   "source": [
    "### Program Exercises\n",
    "#### Question 1 - File Display"
   ]
  },
  {
   "cell_type": "code",
   "execution_count": null,
   "metadata": {},
   "outputs": [
    {
     "name": "stdout",
     "output_type": "stream",
     "text": [
      "1\n",
      "2\n",
      "3\n",
      "4\n",
      "5\n",
      "6\n",
      "7\n",
      "8\n",
      "9\n",
      "10\n",
      "11\n",
      "12\n",
      "13\n",
      "14\n",
      "15\n",
      "16\n",
      "17\n",
      "18\n",
      "19\n",
      "20\n",
      "21\n",
      "22\n",
      "23\n",
      "24\n",
      "25\n",
      "26\n",
      "27\n",
      "28\n",
      "29\n",
      "30\n",
      "31\n",
      "32\n",
      "33\n",
      "34\n",
      "35\n",
      "36\n",
      "37\n",
      "38\n",
      "39\n",
      "40\n",
      "41\n",
      "42\n",
      "43\n",
      "44\n",
      "45\n",
      "46\n",
      "47\n",
      "48\n",
      "49\n",
      "50\n",
      "51\n",
      "52\n",
      "53\n",
      "54\n",
      "55\n",
      "56\n",
      "57\n",
      "58\n",
      "59\n",
      "60\n",
      "61\n",
      "62\n",
      "63\n",
      "64\n",
      "65\n",
      "66\n",
      "67\n",
      "68\n",
      "69\n",
      "70\n",
      "71\n",
      "72\n",
      "73\n",
      "74\n",
      "75\n",
      "76\n",
      "77\n",
      "78\n",
      "79\n",
      "80\n",
      "81\n",
      "82\n",
      "83\n",
      "84\n",
      "85\n",
      "86\n",
      "87\n",
      "88\n",
      "89\n",
      "90\n",
      "91\n",
      "92\n",
      "93\n",
      "94\n",
      "95\n",
      "96\n",
      "97\n",
      "98\n",
      "99\n",
      "100\n"
     ]
    }
   ],
   "source": [
    "# Open a file named numbers.txt that contains numbers 1 through 100\n",
    "# Print all the numbers in the file\n",
    "# Remove the new line; loop prints a new line each time\n",
    "with open('numbers.txt', 'r') as numbers_file:\n",
    "    for line in numbers_file:\n",
    "        print(line.strip())"
   ]
  },
  {
   "attachments": {},
   "cell_type": "markdown",
   "metadata": {},
   "source": [
    "#### Question 6 - Average of Numbers"
   ]
  },
  {
   "cell_type": "code",
   "execution_count": null,
   "metadata": {},
   "outputs": [
    {
     "name": "stdout",
     "output_type": "stream",
     "text": [
      "Total count: 100\n",
      "Total sum: 5050\n",
      "Average: 50.5\n"
     ]
    }
   ],
   "source": [
    "# Open a file named numbers.txt that contains numbers 1 through 100\n",
    "# Calculate the average of all numbers stored in the file\n",
    "# The average is the total count of all numbers divided by the total sum of all numbers. Keep track of both in the loop\n",
    "# Print the average\n",
    "total_count = 0\n",
    "total_sum = 0\n",
    "with open('numbers.txt', 'r') as numbers_file:\n",
    "    for line in numbers_file:\n",
    "        total_count += 1\n",
    "        total_sum += int(line.strip())\n",
    "print('Total count:', total_count)\n",
    "print('Total sum:', total_sum)\n",
    "print('Average:', total_sum/total_count)"
   ]
  },
  {
   "attachments": {},
   "cell_type": "markdown",
   "metadata": {},
   "source": [
    "#### Question 9 - Exception Handling"
   ]
  },
  {
   "cell_type": "code",
   "execution_count": null,
   "metadata": {},
   "outputs": [
    {
     "name": "stdout",
     "output_type": "stream",
     "text": [
      "ERROR: Value for line number 2 must be integer but was A\n"
     ]
    }
   ],
   "source": [
    "total_count = 0\n",
    "total_sum = 0\n",
    "try:\n",
    "    with open('numbers.txt', 'r') as numbers_file:\n",
    "        for line in numbers_file:\n",
    "            total_count += 1\n",
    "            total_sum += int(line.strip())\n",
    "    print('Total count:', total_count)\n",
    "    print('Total sum:', total_sum)\n",
    "    print('Average:', total_count/total_sum)\n",
    "except ValueError:\n",
    "    print('ERROR: Value for line number', total_count, 'must be integer but was', line.strip())                        \n",
    "except IOError:\n",
    "    print('An error occured reading the file numbers.txt')"
   ]
  },
  {
   "attachments": {},
   "cell_type": "markdown",
   "metadata": {},
   "source": [
    "#### Question 10 - Golf Scores"
   ]
  },
  {
   "cell_type": "code",
   "execution_count": 3,
   "metadata": {},
   "outputs": [],
   "source": [
    "# Write a program that reads each players name and golf score. \n",
    "# Saves the players name and golf score to a file named golf.txt\n",
    "while True:\n",
    "    player_name = input('Enter the player name: ')\n",
    "    player_score = input('Enter the player score: ')\n",
    "    with open('golf.txt', 'w') as golf_file:\n",
    "        golf_file.write(player_name + ',' + player_score)\n",
    "    contine = input('Do you want to contine? [y/n]')\n",
    "    if contine =='n':\n",
    "        break"
   ]
  }
 ],
 "metadata": {
  "kernelspec": {
   "display_name": "Python 3",
   "language": "python",
   "name": "python3"
  },
  "language_info": {
   "codemirror_mode": {
    "name": "ipython",
    "version": 3
   },
   "file_extension": ".py",
   "mimetype": "text/x-python",
   "name": "python",
   "nbconvert_exporter": "python",
   "pygments_lexer": "ipython3",
   "version": "3.11.3"
  },
  "orig_nbformat": 4
 },
 "nbformat": 4,
 "nbformat_minor": 2
}
