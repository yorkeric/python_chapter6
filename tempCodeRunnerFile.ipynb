while True:
    player_name = input('Enter the player name')
    player_score = input('Enter the player score')
    with open('golf.txt', 'w') as golf_file:
        golf_file.write(player_name + ',' + player_score)
    contine = input('Do you want to contine? [y/n]')
    if contine =='n':
        break